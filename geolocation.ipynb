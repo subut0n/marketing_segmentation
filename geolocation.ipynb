{
 "cells": [
  {
   "cell_type": "markdown",
   "metadata": {},
   "source": [
    "# Analyse geographique: dataset geolocation"
   ]
  },
  {
   "cell_type": "markdown",
   "metadata": {},
   "source": [
    "---"
   ]
  },
  {
   "cell_type": "code",
   "execution_count": 24,
   "metadata": {},
   "outputs": [],
   "source": [
    "import numpy as np\n",
    "import pandas as pd\n",
    "import seaborn as sns\n",
    "import matplotlib.pyplot as plt\n",
    "import plotly.express as px"
   ]
  },
  {
   "cell_type": "code",
   "execution_count": 25,
   "metadata": {},
   "outputs": [],
   "source": [
    "geolocation = pd.read_csv(\"csv/olist_geolocation_dataset.csv\", dtype={'geolocation_zip_code_prefix' : str, 'geolocation_lat' : float, 'geolocation_lng' : float})"
   ]
  },
  {
   "cell_type": "code",
   "execution_count": 26,
   "metadata": {},
   "outputs": [
    {
     "data": {
      "text/html": [
       "<div>\n",
       "<style scoped>\n",
       "    .dataframe tbody tr th:only-of-type {\n",
       "        vertical-align: middle;\n",
       "    }\n",
       "\n",
       "    .dataframe tbody tr th {\n",
       "        vertical-align: top;\n",
       "    }\n",
       "\n",
       "    .dataframe thead th {\n",
       "        text-align: right;\n",
       "    }\n",
       "</style>\n",
       "<table border=\"1\" class=\"dataframe\">\n",
       "  <thead>\n",
       "    <tr style=\"text-align: right;\">\n",
       "      <th></th>\n",
       "      <th>geolocation_zip_code_prefix</th>\n",
       "      <th>geolocation_lat</th>\n",
       "      <th>geolocation_lng</th>\n",
       "      <th>geolocation_city</th>\n",
       "      <th>geolocation_state</th>\n",
       "    </tr>\n",
       "  </thead>\n",
       "  <tbody>\n",
       "    <tr>\n",
       "      <th>0</th>\n",
       "      <td>01037</td>\n",
       "      <td>-23.545621</td>\n",
       "      <td>-46.639292</td>\n",
       "      <td>sao paulo</td>\n",
       "      <td>SP</td>\n",
       "    </tr>\n",
       "  </tbody>\n",
       "</table>\n",
       "</div>"
      ],
      "text/plain": [
       "  geolocation_zip_code_prefix  geolocation_lat  geolocation_lng  \\\n",
       "0                       01037       -23.545621       -46.639292   \n",
       "\n",
       "  geolocation_city geolocation_state  \n",
       "0        sao paulo                SP  "
      ]
     },
     "execution_count": 26,
     "metadata": {},
     "output_type": "execute_result"
    }
   ],
   "source": [
    "geolocation.head(1)"
   ]
  },
  {
   "cell_type": "code",
   "execution_count": 27,
   "metadata": {},
   "outputs": [
    {
     "data": {
      "text/plain": [
       "count    19015.000000\n",
       "mean        52.598633\n",
       "std         72.057907\n",
       "min          1.000000\n",
       "25%         10.000000\n",
       "50%         29.000000\n",
       "75%         66.500000\n",
       "max       1146.000000\n",
       "Name: geolocation_zip_code_prefix, dtype: float64"
      ]
     },
     "execution_count": 27,
     "metadata": {},
     "output_type": "execute_result"
    }
   ],
   "source": [
    "geolocation['geolocation_zip_code_prefix'].value_counts().describe()"
   ]
  },
  {
   "cell_type": "markdown",
   "metadata": {},
   "source": [
    "Il y a 19015 differents zipcodes, un zipcode possede 1146 occurences, avec une moyenne d'occurence d'environ 53 valeurs par zipcode. "
   ]
  },
  {
   "cell_type": "code",
   "execution_count": 28,
   "metadata": {},
   "outputs": [
    {
     "data": {
      "text/plain": [
       "count    1.000163e+06\n",
       "mean    -2.117615e+01\n",
       "std      5.715866e+00\n",
       "min     -3.660537e+01\n",
       "25%     -2.360355e+01\n",
       "50%     -2.291938e+01\n",
       "75%     -1.997962e+01\n",
       "max      4.506593e+01\n",
       "Name: geolocation_lat, dtype: float64"
      ]
     },
     "execution_count": 28,
     "metadata": {},
     "output_type": "execute_result"
    }
   ],
   "source": [
    "geolocation['geolocation_lat'].describe()"
   ]
  },
  {
   "cell_type": "markdown",
   "metadata": {},
   "source": [
    "Le territoire territoire du bresil s'étend sur 4 395 km du Nord au Sud (5°16'20\" Nord à 33°44'32\" Sud de latitude) (5.27 | -33.74) et 4 319 km d'Est en Ouest (34°47'30\" Est à 73°59'32\" Ouest de longitude) (-33.79 | -73.99) et couvre trois fuseaux horaires. Je fais donc un traitement sur les donnees de la longitude et de la latitude afin de supprimer les valeurs incoherentes."
   ]
  },
  {
   "cell_type": "code",
   "execution_count": 29,
   "metadata": {},
   "outputs": [
    {
     "data": {
      "text/plain": [
       "dtype('float64')"
      ]
     },
     "execution_count": 29,
     "metadata": {},
     "output_type": "execute_result"
    }
   ],
   "source": [
    "geolocation['geolocation_lat'].dtype"
   ]
  },
  {
   "cell_type": "code",
   "execution_count": 30,
   "metadata": {},
   "outputs": [],
   "source": [
    "geolocation = geolocation[geolocation['geolocation_lat'] <= 5.27]\n",
    "geolocation = geolocation[geolocation['geolocation_lat'] >= -33.74]\n",
    "geolocation = geolocation[geolocation['geolocation_lng'] <= -33.79]\n",
    "geolocation = geolocation[geolocation['geolocation_lng'] >= -73.99]"
   ]
  },
  {
   "cell_type": "code",
   "execution_count": 31,
   "metadata": {},
   "outputs": [
    {
     "data": {
      "text/html": [
       "<div>\n",
       "<style scoped>\n",
       "    .dataframe tbody tr th:only-of-type {\n",
       "        vertical-align: middle;\n",
       "    }\n",
       "\n",
       "    .dataframe tbody tr th {\n",
       "        vertical-align: top;\n",
       "    }\n",
       "\n",
       "    .dataframe thead th {\n",
       "        text-align: right;\n",
       "    }\n",
       "</style>\n",
       "<table border=\"1\" class=\"dataframe\">\n",
       "  <thead>\n",
       "    <tr style=\"text-align: right;\">\n",
       "      <th></th>\n",
       "      <th>geolocation_zip_code_prefix</th>\n",
       "      <th>geolocation_lat</th>\n",
       "      <th>geolocation_lng</th>\n",
       "      <th>geolocation_city</th>\n",
       "      <th>geolocation_state</th>\n",
       "    </tr>\n",
       "  </thead>\n",
       "  <tbody>\n",
       "    <tr>\n",
       "      <th>334422</th>\n",
       "      <td>14409</td>\n",
       "      <td>-20.509897</td>\n",
       "      <td>-47.397866</td>\n",
       "      <td>franca</td>\n",
       "      <td>SP</td>\n",
       "    </tr>\n",
       "    <tr>\n",
       "      <th>334449</th>\n",
       "      <td>14409</td>\n",
       "      <td>-20.497396</td>\n",
       "      <td>-47.399241</td>\n",
       "      <td>franca</td>\n",
       "      <td>SP</td>\n",
       "    </tr>\n",
       "    <tr>\n",
       "      <th>334459</th>\n",
       "      <td>14409</td>\n",
       "      <td>-20.510459</td>\n",
       "      <td>-47.399553</td>\n",
       "      <td>franca</td>\n",
       "      <td>SP</td>\n",
       "    </tr>\n",
       "    <tr>\n",
       "      <th>334462</th>\n",
       "      <td>14409</td>\n",
       "      <td>-20.480940</td>\n",
       "      <td>-47.394161</td>\n",
       "      <td>franca</td>\n",
       "      <td>SP</td>\n",
       "    </tr>\n",
       "    <tr>\n",
       "      <th>334463</th>\n",
       "      <td>14409</td>\n",
       "      <td>-20.515413</td>\n",
       "      <td>-47.398194</td>\n",
       "      <td>franca</td>\n",
       "      <td>SP</td>\n",
       "    </tr>\n",
       "    <tr>\n",
       "      <th>...</th>\n",
       "      <td>...</td>\n",
       "      <td>...</td>\n",
       "      <td>...</td>\n",
       "      <td>...</td>\n",
       "      <td>...</td>\n",
       "    </tr>\n",
       "    <tr>\n",
       "      <th>336625</th>\n",
       "      <td>14409</td>\n",
       "      <td>-20.483960</td>\n",
       "      <td>-47.403324</td>\n",
       "      <td>franca</td>\n",
       "      <td>SP</td>\n",
       "    </tr>\n",
       "    <tr>\n",
       "      <th>336650</th>\n",
       "      <td>14409</td>\n",
       "      <td>-20.483960</td>\n",
       "      <td>-47.403324</td>\n",
       "      <td>franca</td>\n",
       "      <td>SP</td>\n",
       "    </tr>\n",
       "    <tr>\n",
       "      <th>336653</th>\n",
       "      <td>14409</td>\n",
       "      <td>-20.487255</td>\n",
       "      <td>-47.405925</td>\n",
       "      <td>franca</td>\n",
       "      <td>SP</td>\n",
       "    </tr>\n",
       "    <tr>\n",
       "      <th>336657</th>\n",
       "      <td>14409</td>\n",
       "      <td>-20.510459</td>\n",
       "      <td>-47.399553</td>\n",
       "      <td>franca</td>\n",
       "      <td>SP</td>\n",
       "    </tr>\n",
       "    <tr>\n",
       "      <th>336670</th>\n",
       "      <td>14409</td>\n",
       "      <td>-20.500253</td>\n",
       "      <td>-47.400367</td>\n",
       "      <td>franca</td>\n",
       "      <td>SP</td>\n",
       "    </tr>\n",
       "  </tbody>\n",
       "</table>\n",
       "<p>147 rows × 5 columns</p>\n",
       "</div>"
      ],
      "text/plain": [
       "       geolocation_zip_code_prefix  geolocation_lat  geolocation_lng  \\\n",
       "334422                       14409       -20.509897       -47.397866   \n",
       "334449                       14409       -20.497396       -47.399241   \n",
       "334459                       14409       -20.510459       -47.399553   \n",
       "334462                       14409       -20.480940       -47.394161   \n",
       "334463                       14409       -20.515413       -47.398194   \n",
       "...                            ...              ...              ...   \n",
       "336625                       14409       -20.483960       -47.403324   \n",
       "336650                       14409       -20.483960       -47.403324   \n",
       "336653                       14409       -20.487255       -47.405925   \n",
       "336657                       14409       -20.510459       -47.399553   \n",
       "336670                       14409       -20.500253       -47.400367   \n",
       "\n",
       "       geolocation_city geolocation_state  \n",
       "334422           franca                SP  \n",
       "334449           franca                SP  \n",
       "334459           franca                SP  \n",
       "334462           franca                SP  \n",
       "334463           franca                SP  \n",
       "...                 ...               ...  \n",
       "336625           franca                SP  \n",
       "336650           franca                SP  \n",
       "336653           franca                SP  \n",
       "336657           franca                SP  \n",
       "336670           franca                SP  \n",
       "\n",
       "[147 rows x 5 columns]"
      ]
     },
     "execution_count": 31,
     "metadata": {},
     "output_type": "execute_result"
    }
   ],
   "source": [
    "geolocation[geolocation['geolocation_zip_code_prefix'] == '14409']"
   ]
  },
  {
   "cell_type": "markdown",
   "metadata": {},
   "source": [
    "Il y a beaucoup de latitude et de longitude pour le meme zip code donc je vais chercher a faire la moyenne de ces latitudes et longitudes par zipcode."
   ]
  },
  {
   "cell_type": "code",
   "execution_count": 32,
   "metadata": {},
   "outputs": [
    {
     "data": {
      "text/plain": [
       "array(['01037', '01046', '01041', ..., '99910', '99920', '99952'],\n",
       "      dtype=object)"
      ]
     },
     "execution_count": 32,
     "metadata": {},
     "output_type": "execute_result"
    }
   ],
   "source": [
    "geolocation['geolocation_zip_code_prefix'].unique()"
   ]
  },
  {
   "cell_type": "code",
   "execution_count": 34,
   "metadata": {},
   "outputs": [
    {
     "name": "stderr",
     "output_type": "stream",
     "text": [
      "/tmp/ipykernel_3409/3579805321.py:1: FutureWarning: Indexing with multiple keys (implicitly converted to a tuple of keys) will be deprecated, use a list instead.\n",
      "  geo = geolocation.groupby('geolocation_zip_code_prefix')['geolocation_lat', 'geolocation_lng'].median().reset_index()\n"
     ]
    },
    {
     "data": {
      "text/html": [
       "<div>\n",
       "<style scoped>\n",
       "    .dataframe tbody tr th:only-of-type {\n",
       "        vertical-align: middle;\n",
       "    }\n",
       "\n",
       "    .dataframe tbody tr th {\n",
       "        vertical-align: top;\n",
       "    }\n",
       "\n",
       "    .dataframe thead th {\n",
       "        text-align: right;\n",
       "    }\n",
       "</style>\n",
       "<table border=\"1\" class=\"dataframe\">\n",
       "  <thead>\n",
       "    <tr style=\"text-align: right;\">\n",
       "      <th></th>\n",
       "      <th>geolocation_zip_code_prefix</th>\n",
       "      <th>geolocation_lat</th>\n",
       "      <th>geolocation_lng</th>\n",
       "    </tr>\n",
       "  </thead>\n",
       "  <tbody>\n",
       "    <tr>\n",
       "      <th>0</th>\n",
       "      <td>01001</td>\n",
       "      <td>-23.550381</td>\n",
       "      <td>-46.634027</td>\n",
       "    </tr>\n",
       "    <tr>\n",
       "      <th>1</th>\n",
       "      <td>01002</td>\n",
       "      <td>-23.548551</td>\n",
       "      <td>-46.635072</td>\n",
       "    </tr>\n",
       "    <tr>\n",
       "      <th>2</th>\n",
       "      <td>01003</td>\n",
       "      <td>-23.548977</td>\n",
       "      <td>-46.635313</td>\n",
       "    </tr>\n",
       "    <tr>\n",
       "      <th>3</th>\n",
       "      <td>01004</td>\n",
       "      <td>-23.549535</td>\n",
       "      <td>-46.634771</td>\n",
       "    </tr>\n",
       "    <tr>\n",
       "      <th>4</th>\n",
       "      <td>01005</td>\n",
       "      <td>-23.549612</td>\n",
       "      <td>-46.636532</td>\n",
       "    </tr>\n",
       "    <tr>\n",
       "      <th>...</th>\n",
       "      <td>...</td>\n",
       "      <td>...</td>\n",
       "      <td>...</td>\n",
       "    </tr>\n",
       "    <tr>\n",
       "      <th>19005</th>\n",
       "      <td>99960</td>\n",
       "      <td>-27.953797</td>\n",
       "      <td>-52.029641</td>\n",
       "    </tr>\n",
       "    <tr>\n",
       "      <th>19006</th>\n",
       "      <td>99965</td>\n",
       "      <td>-28.179542</td>\n",
       "      <td>-52.035551</td>\n",
       "    </tr>\n",
       "    <tr>\n",
       "      <th>19007</th>\n",
       "      <td>99970</td>\n",
       "      <td>-28.343273</td>\n",
       "      <td>-51.873734</td>\n",
       "    </tr>\n",
       "    <tr>\n",
       "      <th>19008</th>\n",
       "      <td>99980</td>\n",
       "      <td>-28.388092</td>\n",
       "      <td>-51.846880</td>\n",
       "    </tr>\n",
       "    <tr>\n",
       "      <th>19009</th>\n",
       "      <td>99990</td>\n",
       "      <td>-28.329595</td>\n",
       "      <td>-51.769362</td>\n",
       "    </tr>\n",
       "  </tbody>\n",
       "</table>\n",
       "<p>19010 rows × 3 columns</p>\n",
       "</div>"
      ],
      "text/plain": [
       "      geolocation_zip_code_prefix  geolocation_lat  geolocation_lng\n",
       "0                           01001       -23.550381       -46.634027\n",
       "1                           01002       -23.548551       -46.635072\n",
       "2                           01003       -23.548977       -46.635313\n",
       "3                           01004       -23.549535       -46.634771\n",
       "4                           01005       -23.549612       -46.636532\n",
       "...                           ...              ...              ...\n",
       "19005                       99960       -27.953797       -52.029641\n",
       "19006                       99965       -28.179542       -52.035551\n",
       "19007                       99970       -28.343273       -51.873734\n",
       "19008                       99980       -28.388092       -51.846880\n",
       "19009                       99990       -28.329595       -51.769362\n",
       "\n",
       "[19010 rows x 3 columns]"
      ]
     },
     "execution_count": 34,
     "metadata": {},
     "output_type": "execute_result"
    }
   ],
   "source": [
    "\n",
    "geo\n"
   ]
  },
  {
   "cell_type": "markdown",
   "metadata": {},
   "source": [
    "On voit qu'il y a 19009 zipcodes differents. "
   ]
  }
 ],
 "metadata": {
  "interpreter": {
   "hash": "916dbcbb3f70747c44a77c7bcd40155683ae19c65e1c03b4aa3499c5328201f1"
  },
  "kernelspec": {
   "display_name": "Python 3.8.10 64-bit",
   "language": "python",
   "name": "python3"
  },
  "language_info": {
   "codemirror_mode": {
    "name": "ipython",
    "version": 3
   },
   "file_extension": ".py",
   "mimetype": "text/x-python",
   "name": "python",
   "nbconvert_exporter": "python",
   "pygments_lexer": "ipython3",
   "version": "3.8.10"
  },
  "orig_nbformat": 4
 },
 "nbformat": 4,
 "nbformat_minor": 2
}
