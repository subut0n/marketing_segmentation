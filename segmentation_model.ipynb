{
 "cells": [
  {
   "cell_type": "markdown",
   "metadata": {},
   "source": [
    "# Realisation du modele a partir de mon dataset"
   ]
  },
  {
   "cell_type": "markdown",
   "metadata": {},
   "source": [
    "Import"
   ]
  },
  {
   "cell_type": "code",
   "execution_count": 21,
   "metadata": {},
   "outputs": [],
   "source": [
    "import pandas as pd \n",
    "import numpy as np\n",
    "import seaborn as sns\n",
    "import matplotlib.pyplot as plt\n",
    "import plotly.express as px"
   ]
  },
  {
   "cell_type": "code",
   "execution_count": 22,
   "metadata": {},
   "outputs": [],
   "source": [
    "pd.set_option('display.max_columns', None)\n",
    "data = pd.read_csv('csv/cleaned_data.csv')"
   ]
  },
  {
   "cell_type": "code",
   "execution_count": 23,
   "metadata": {},
   "outputs": [
    {
     "data": {
      "text/html": [
       "<div>\n",
       "<style scoped>\n",
       "    .dataframe tbody tr th:only-of-type {\n",
       "        vertical-align: middle;\n",
       "    }\n",
       "\n",
       "    .dataframe tbody tr th {\n",
       "        vertical-align: top;\n",
       "    }\n",
       "\n",
       "    .dataframe thead th {\n",
       "        text-align: right;\n",
       "    }\n",
       "</style>\n",
       "<table border=\"1\" class=\"dataframe\">\n",
       "  <thead>\n",
       "    <tr style=\"text-align: right;\">\n",
       "      <th></th>\n",
       "      <th>customer_id</th>\n",
       "      <th>customer_unique_id</th>\n",
       "      <th>geolocation_lat</th>\n",
       "      <th>geolocation_lng</th>\n",
       "      <th>order_id</th>\n",
       "      <th>order_status</th>\n",
       "      <th>delivery_time</th>\n",
       "      <th>freight_value</th>\n",
       "      <th>order_price</th>\n",
       "      <th>payment_type</th>\n",
       "      <th>payment_value</th>\n",
       "      <th>payment_installments</th>\n",
       "      <th>payment_sequential</th>\n",
       "      <th>review_score</th>\n",
       "    </tr>\n",
       "  </thead>\n",
       "  <tbody>\n",
       "    <tr>\n",
       "      <th>0</th>\n",
       "      <td>06b8999e2fba1a1fbc88172c00ba8bc7</td>\n",
       "      <td>861eff4711a542e4b93843c6dd7febb0</td>\n",
       "      <td>-20.50207</td>\n",
       "      <td>-47.396822</td>\n",
       "      <td>00e7ee1b050b8499577073aeb2a297a1</td>\n",
       "      <td>delivered</td>\n",
       "      <td>8.0</td>\n",
       "      <td>21.88</td>\n",
       "      <td>124.99</td>\n",
       "      <td>credit_card</td>\n",
       "      <td>146.87</td>\n",
       "      <td>2</td>\n",
       "      <td>1</td>\n",
       "      <td>4.0</td>\n",
       "    </tr>\n",
       "  </tbody>\n",
       "</table>\n",
       "</div>"
      ],
      "text/plain": [
       "                        customer_id                customer_unique_id  \\\n",
       "0  06b8999e2fba1a1fbc88172c00ba8bc7  861eff4711a542e4b93843c6dd7febb0   \n",
       "\n",
       "   geolocation_lat  geolocation_lng                          order_id  \\\n",
       "0        -20.50207       -47.396822  00e7ee1b050b8499577073aeb2a297a1   \n",
       "\n",
       "  order_status  delivery_time  freight_value  order_price payment_type  \\\n",
       "0    delivered            8.0          21.88       124.99  credit_card   \n",
       "\n",
       "   payment_value  payment_installments  payment_sequential  review_score  \n",
       "0         146.87                     2                   1           4.0  "
      ]
     },
     "execution_count": 23,
     "metadata": {},
     "output_type": "execute_result"
    }
   ],
   "source": [
    "data.head(1)"
   ]
  },
  {
   "cell_type": "markdown",
   "metadata": {},
   "source": [
    "## Analyse"
   ]
  },
  {
   "cell_type": "markdown",
   "metadata": {},
   "source": [
    "Je vais realiser ici une analyse de mon data set clean."
   ]
  },
  {
   "cell_type": "code",
   "execution_count": 24,
   "metadata": {},
   "outputs": [
    {
     "data": {
      "text/html": [
       "<div>\n",
       "<style scoped>\n",
       "    .dataframe tbody tr th:only-of-type {\n",
       "        vertical-align: middle;\n",
       "    }\n",
       "\n",
       "    .dataframe tbody tr th {\n",
       "        vertical-align: top;\n",
       "    }\n",
       "\n",
       "    .dataframe thead th {\n",
       "        text-align: right;\n",
       "    }\n",
       "</style>\n",
       "<table border=\"1\" class=\"dataframe\">\n",
       "  <thead>\n",
       "    <tr style=\"text-align: right;\">\n",
       "      <th></th>\n",
       "      <th>geolocation_lat</th>\n",
       "      <th>geolocation_lng</th>\n",
       "      <th>delivery_time</th>\n",
       "      <th>freight_value</th>\n",
       "      <th>order_price</th>\n",
       "      <th>payment_value</th>\n",
       "      <th>payment_installments</th>\n",
       "      <th>payment_sequential</th>\n",
       "      <th>review_score</th>\n",
       "    </tr>\n",
       "  </thead>\n",
       "  <tbody>\n",
       "    <tr>\n",
       "      <th>count</th>\n",
       "      <td>97642.000000</td>\n",
       "      <td>97642.000000</td>\n",
       "      <td>95565.000000</td>\n",
       "      <td>97642.000000</td>\n",
       "      <td>97642.000000</td>\n",
       "      <td>97642.000000</td>\n",
       "      <td>97642.000000</td>\n",
       "      <td>97642.000000</td>\n",
       "      <td>97642.000000</td>\n",
       "    </tr>\n",
       "    <tr>\n",
       "      <th>mean</th>\n",
       "      <td>-21.196422</td>\n",
       "      <td>-46.182419</td>\n",
       "      <td>12.043185</td>\n",
       "      <td>22.799091</td>\n",
       "      <td>251.211153</td>\n",
       "      <td>160.361894</td>\n",
       "      <td>2.929498</td>\n",
       "      <td>1.045360</td>\n",
       "      <td>4.104992</td>\n",
       "    </tr>\n",
       "    <tr>\n",
       "      <th>std</th>\n",
       "      <td>5.599672</td>\n",
       "      <td>4.052806</td>\n",
       "      <td>9.460702</td>\n",
       "      <td>21.630109</td>\n",
       "      <td>2539.216397</td>\n",
       "      <td>219.337345</td>\n",
       "      <td>2.712866</td>\n",
       "      <td>0.381463</td>\n",
       "      <td>1.330310</td>\n",
       "    </tr>\n",
       "    <tr>\n",
       "      <th>min</th>\n",
       "      <td>-33.690972</td>\n",
       "      <td>-72.670987</td>\n",
       "      <td>0.000000</td>\n",
       "      <td>0.000000</td>\n",
       "      <td>0.850000</td>\n",
       "      <td>9.590000</td>\n",
       "      <td>0.000000</td>\n",
       "      <td>1.000000</td>\n",
       "      <td>1.000000</td>\n",
       "    </tr>\n",
       "    <tr>\n",
       "      <th>25%</th>\n",
       "      <td>-23.589547</td>\n",
       "      <td>-48.108180</td>\n",
       "      <td>6.000000</td>\n",
       "      <td>13.830000</td>\n",
       "      <td>48.000000</td>\n",
       "      <td>61.895000</td>\n",
       "      <td>1.000000</td>\n",
       "      <td>1.000000</td>\n",
       "      <td>4.000000</td>\n",
       "    </tr>\n",
       "    <tr>\n",
       "      <th>50%</th>\n",
       "      <td>-22.925419</td>\n",
       "      <td>-46.631469</td>\n",
       "      <td>10.000000</td>\n",
       "      <td>17.160000</td>\n",
       "      <td>89.990000</td>\n",
       "      <td>105.280000</td>\n",
       "      <td>2.000000</td>\n",
       "      <td>1.000000</td>\n",
       "      <td>5.000000</td>\n",
       "    </tr>\n",
       "    <tr>\n",
       "      <th>75%</th>\n",
       "      <td>-20.140685</td>\n",
       "      <td>-43.606953</td>\n",
       "      <td>15.000000</td>\n",
       "      <td>24.000000</td>\n",
       "      <td>174.900000</td>\n",
       "      <td>176.735000</td>\n",
       "      <td>4.000000</td>\n",
       "      <td>1.000000</td>\n",
       "      <td>5.000000</td>\n",
       "    </tr>\n",
       "    <tr>\n",
       "      <th>max</th>\n",
       "      <td>3.844931</td>\n",
       "      <td>-34.799347</td>\n",
       "      <td>208.000000</td>\n",
       "      <td>1794.960000</td>\n",
       "      <td>483840.000000</td>\n",
       "      <td>13664.080000</td>\n",
       "      <td>24.000000</td>\n",
       "      <td>29.000000</td>\n",
       "      <td>5.000000</td>\n",
       "    </tr>\n",
       "  </tbody>\n",
       "</table>\n",
       "</div>"
      ],
      "text/plain": [
       "       geolocation_lat  geolocation_lng  delivery_time  freight_value  \\\n",
       "count     97642.000000     97642.000000   95565.000000   97642.000000   \n",
       "mean        -21.196422       -46.182419      12.043185      22.799091   \n",
       "std           5.599672         4.052806       9.460702      21.630109   \n",
       "min         -33.690972       -72.670987       0.000000       0.000000   \n",
       "25%         -23.589547       -48.108180       6.000000      13.830000   \n",
       "50%         -22.925419       -46.631469      10.000000      17.160000   \n",
       "75%         -20.140685       -43.606953      15.000000      24.000000   \n",
       "max           3.844931       -34.799347     208.000000    1794.960000   \n",
       "\n",
       "         order_price  payment_value  payment_installments  payment_sequential  \\\n",
       "count   97642.000000   97642.000000          97642.000000        97642.000000   \n",
       "mean      251.211153     160.361894              2.929498            1.045360   \n",
       "std      2539.216397     219.337345              2.712866            0.381463   \n",
       "min         0.850000       9.590000              0.000000            1.000000   \n",
       "25%        48.000000      61.895000              1.000000            1.000000   \n",
       "50%        89.990000     105.280000              2.000000            1.000000   \n",
       "75%       174.900000     176.735000              4.000000            1.000000   \n",
       "max    483840.000000   13664.080000             24.000000           29.000000   \n",
       "\n",
       "       review_score  \n",
       "count  97642.000000  \n",
       "mean       4.104992  \n",
       "std        1.330310  \n",
       "min        1.000000  \n",
       "25%        4.000000  \n",
       "50%        5.000000  \n",
       "75%        5.000000  \n",
       "max        5.000000  "
      ]
     },
     "execution_count": 24,
     "metadata": {},
     "output_type": "execute_result"
    }
   ],
   "source": [
    "data.describe()"
   ]
  },
  {
   "cell_type": "code",
   "execution_count": 25,
   "metadata": {},
   "outputs": [
    {
     "data": {
      "text/plain": [
       "(97642, 14)"
      ]
     },
     "execution_count": 25,
     "metadata": {},
     "output_type": "execute_result"
    }
   ],
   "source": [
    "data.shape"
   ]
  },
  {
   "cell_type": "markdown",
   "metadata": {},
   "source": [
    "### Statut de la commande"
   ]
  },
  {
   "cell_type": "code",
   "execution_count": 26,
   "metadata": {},
   "outputs": [
    {
     "data": {
      "text/plain": [
       "count         97642\n",
       "unique            7\n",
       "top       delivered\n",
       "freq          95567\n",
       "Name: order_status, dtype: object"
      ]
     },
     "execution_count": 26,
     "metadata": {},
     "output_type": "execute_result"
    }
   ],
   "source": [
    "data.order_status.describe()"
   ]
  },
  {
   "cell_type": "code",
   "execution_count": 27,
   "metadata": {},
   "outputs": [
    {
     "data": {
      "text/plain": [
       "order_status\n",
       "approved           2\n",
       "canceled         443\n",
       "delivered      95567\n",
       "invoiced         306\n",
       "processing       294\n",
       "shipped         1024\n",
       "unavailable        6\n",
       "Name: customer_id, dtype: int64"
      ]
     },
     "execution_count": 27,
     "metadata": {},
     "output_type": "execute_result"
    }
   ],
   "source": [
    "data.groupby('order_status')['customer_id'].count()"
   ]
  },
  {
   "cell_type": "code",
   "execution_count": 28,
   "metadata": {},
   "outputs": [
    {
     "data": {
      "text/plain": [
       "0.9787488990393478"
      ]
     },
     "execution_count": 28,
     "metadata": {},
     "output_type": "execute_result"
    }
   ],
   "source": [
    "mean_delivered = 95567 / 97642\n",
    "mean_delivered"
   ]
  },
  {
   "cell_type": "markdown",
   "metadata": {},
   "source": [
    "97.87% des colis sont livres."
   ]
  },
  {
   "cell_type": "code",
   "execution_count": 29,
   "metadata": {},
   "outputs": [
    {
     "data": {
      "text/plain": [
       "0.010487290305401364"
      ]
     },
     "execution_count": 29,
     "metadata": {},
     "output_type": "execute_result"
    }
   ],
   "source": [
    "mean_shipped = 1024 / 97642\n",
    "mean_shipped"
   ]
  },
  {
   "cell_type": "markdown",
   "metadata": {},
   "source": [
    "1.04% des colis sont en cours de livraison. "
   ]
  },
  {
   "cell_type": "code",
   "execution_count": 30,
   "metadata": {},
   "outputs": [
    {
     "data": {
      "text/plain": [
       "0.0045369820364187545"
      ]
     },
     "execution_count": 30,
     "metadata": {},
     "output_type": "execute_result"
    }
   ],
   "source": [
    "mean_canceled = 443 / 97642\n",
    "mean_canceled "
   ]
  },
  {
   "cell_type": "markdown",
   "metadata": {},
   "source": [
    "0.4% des colis sont canceled."
   ]
  },
  {
   "cell_type": "markdown",
   "metadata": {},
   "source": [
    "### Temps de livraison"
   ]
  },
  {
   "cell_type": "code",
   "execution_count": 31,
   "metadata": {},
   "outputs": [
    {
     "data": {
      "text/plain": [
       "count    95565.000000\n",
       "mean        12.043185\n",
       "std          9.460702\n",
       "min          0.000000\n",
       "25%          6.000000\n",
       "50%         10.000000\n",
       "75%         15.000000\n",
       "max        208.000000\n",
       "Name: delivery_time, dtype: float64"
      ]
     },
     "execution_count": 31,
     "metadata": {},
     "output_type": "execute_result"
    }
   ],
   "source": [
    "data.delivery_time.describe()"
   ]
  },
  {
   "cell_type": "markdown",
   "metadata": {},
   "source": [
    "Temps de livraison moyen de 12 jours.\n",
    "\n",
    "Temps de livraison max de 208 jours."
   ]
  },
  {
   "cell_type": "markdown",
   "metadata": {},
   "source": [
    "### Moyenne des paiements"
   ]
  },
  {
   "cell_type": "code",
   "execution_count": 32,
   "metadata": {},
   "outputs": [
    {
     "data": {
      "text/plain": [
       "count    97642.000000\n",
       "mean        22.799091\n",
       "std         21.630109\n",
       "min          0.000000\n",
       "25%         13.830000\n",
       "50%         17.160000\n",
       "75%         24.000000\n",
       "max       1794.960000\n",
       "Name: freight_value, dtype: float64"
      ]
     },
     "execution_count": 32,
     "metadata": {},
     "output_type": "execute_result"
    }
   ],
   "source": [
    "data.freight_value.describe()"
   ]
  },
  {
   "cell_type": "markdown",
   "metadata": {},
   "source": [
    "La moyenne des frais des ports est de 22.76 dollars."
   ]
  },
  {
   "cell_type": "code",
   "execution_count": 33,
   "metadata": {},
   "outputs": [
    {
     "data": {
      "text/plain": [
       "count     97642.000000\n",
       "mean        251.211153\n",
       "std        2539.216397\n",
       "min           0.850000\n",
       "25%          48.000000\n",
       "50%          89.990000\n",
       "75%         174.900000\n",
       "max      483840.000000\n",
       "Name: order_price, dtype: float64"
      ]
     },
     "execution_count": 33,
     "metadata": {},
     "output_type": "execute_result"
    }
   ],
   "source": [
    "data.order_price.describe()"
   ]
  },
  {
   "cell_type": "markdown",
   "metadata": {},
   "source": [
    "La moyenne des achats est de 250 dollars. La plus grosse commande represente un total de 483840 dollars."
   ]
  },
  {
   "cell_type": "markdown",
   "metadata": {},
   "source": [
    "## Modele"
   ]
  },
  {
   "cell_type": "code",
   "execution_count": 34,
   "metadata": {},
   "outputs": [],
   "source": [
    "from kneed import KneeLocator\n",
    "from sklearn.pipeline import make_pipeline\n",
    "from sklearn.compose import make_column_transformer\n",
    "from sklearn.model_selection import train_test_split\n",
    "from sklearn.datasets import make_blobs\n",
    "from sklearn.cluster import KMeans\n",
    "from sklearn.metrics import silhouette_score\n",
    "from sklearn.preprocessing import StandardScaler, LabelEncoder, OneHotEncoder"
   ]
  },
  {
   "cell_type": "code",
   "execution_count": 35,
   "metadata": {},
   "outputs": [
    {
     "data": {
      "text/plain": [
       "Index(['customer_id', 'customer_unique_id', 'geolocation_lat',\n",
       "       'geolocation_lng', 'order_id', 'order_status', 'delivery_time',\n",
       "       'freight_value', 'order_price', 'payment_type', 'payment_value',\n",
       "       'payment_installments', 'payment_sequential', 'review_score'],\n",
       "      dtype='object')"
      ]
     },
     "execution_count": 35,
     "metadata": {},
     "output_type": "execute_result"
    }
   ],
   "source": [
    "data.columns"
   ]
  },
  {
   "cell_type": "markdown",
   "metadata": {},
   "source": [
    "Drop les NaN de mon dataset."
   ]
  },
  {
   "cell_type": "code",
   "execution_count": 36,
   "metadata": {},
   "outputs": [],
   "source": [
    "data.isna().sum()\n",
    "data.dropna(inplace=True)"
   ]
  },
  {
   "cell_type": "code",
   "execution_count": 41,
   "metadata": {},
   "outputs": [
    {
     "data": {
      "text/plain": [
       "array([0, 4, 0, ..., 0, 0, 0], dtype=int32)"
      ]
     },
     "execution_count": 41,
     "metadata": {},
     "output_type": "execute_result"
    }
   ],
   "source": [
    "X = data.drop(['customer_id', 'customer_unique_id', 'order_id'], axis=1)\n",
    "\n",
    "ohe_features = ['order_status', 'payment_type']\n",
    "ohe_pipeline = make_pipeline(OneHotEncoder())\n",
    "\n",
    "scaled_features = ['geolocation_lat', 'geolocation_lng', 'delivery_time', 'freight_value', 'order_price', 'payment_value', 'payment_installments', 'payment_sequential', 'review_score']\n",
    "scaled_pipeline = make_pipeline(StandardScaler())\n",
    "\n",
    "preprocessing = make_column_transformer((ohe_pipeline, ohe_features), (scaled_pipeline, scaled_features))\n",
    "model = make_pipeline(preprocessing, KMeans(n_clusters=5))\n",
    "\n",
    "model.fit(X)\n",
    "model.predict(X)"
   ]
  },
  {
   "cell_type": "code",
   "execution_count": 38,
   "metadata": {},
   "outputs": [
    {
     "data": {
      "text/plain": [
       "0       -20.502070\n",
       "1       -20.502070\n",
       "2       -20.502070\n",
       "3       -20.502070\n",
       "4       -20.502070\n",
       "           ...    \n",
       "97637   -23.501806\n",
       "97638   -28.526971\n",
       "97639   -23.588504\n",
       "97640   -16.822945\n",
       "97641   -28.226596\n",
       "Name: geolocation_lat, Length: 95565, dtype: float64"
      ]
     },
     "execution_count": 38,
     "metadata": {},
     "output_type": "execute_result"
    }
   ],
   "source": [
    "X.iloc[:,0]"
   ]
  },
  {
   "cell_type": "code",
   "execution_count": 39,
   "metadata": {},
   "outputs": [
    {
     "data": {
      "image/png": "[encoded data removed]",
      "text/plain": [
       "<Figure size 432x288 with 1 Axes>"
      ]
     },
     "metadata": {
      "needs_background": "light"
     },
     "output_type": "display_data"
    }
   ],
   "source": [
    "plt.scatter(X.iloc[:,0], X.iloc[:,1], c=model.predict(X))\n",
    "plt.show()"
   ]
  }
 ],
 "metadata": {
  "interpreter": {
   "hash": "7e1998ff7f8aa20ada591c520b972326324e5ea05489af9e422744c7c09f6dad"
  },
  "kernelspec": {
   "display_name": "Python 3.10.2 64-bit",
   "language": "python",
   "name": "python3"
  },
  "language_info": {
   "codemirror_mode": {
    "name": "ipython",
    "version": 3
   },
   "file_extension": ".py",
   "mimetype": "text/x-python",
   "name": "python",
   "nbconvert_exporter": "python",
   "pygments_lexer": "ipython3",
   "version": "3.8.10"
  },
  "orig_nbformat": 4
 },
 "nbformat": 4,
 "nbformat_minor": 2
}
